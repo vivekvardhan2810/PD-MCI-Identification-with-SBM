{
  "nbformat": 4,
  "nbformat_minor": 0,
  "metadata": {
    "colab": {
      "provenance": []
    },
    "kernelspec": {
      "name": "python3",
      "display_name": "Python 3"
    },
    "language_info": {
      "name": "python"
    }
  },
  "cells": [
    {
      "cell_type": "code",
      "source": [
        "import numpy as np\n",
        "import pandas as pd\n",
        "from sklearn.model_selection import train_test_split\n",
        "from sklearn.preprocessing import StandardScaler\n",
        "from sklearn.svm import SVC\n",
        "from sklearn.metrics import accuracy_score\n",
        "\n",
        "# Create a synthetic dataset for demonstration\n",
        "np.random.seed(42)\n",
        "num_samples = 1000\n",
        "\n",
        "# Assuming 10 features in your SBM data\n",
        "sbm_data = np.random.randn(num_samples, 10)\n",
        "\n",
        "# Generating random labels (0 or 1) for PD-MCI\n",
        "labels = np.random.randint(2, size=num_samples)\n",
        "\n",
        "# Creating a DataFrame\n",
        "data = pd.DataFrame(data=sbm_data, columns=[f'Feature_{i}' for i in range(1, 11)])\n",
        "data['PD_MCI_Label'] = labels\n",
        "\n",
        "# Split the dataset into training and testing sets\n",
        "X_train, X_test, y_train, y_test = train_test_split(data.drop('PD_MCI_Label', axis=1), data['PD_MCI_Label'], test_size=0.2, random_state=42)\n",
        "\n",
        "# Standardize the data\n",
        "scaler = StandardScaler()\n",
        "X_train_scaled = scaler.fit_transform(X_train)\n",
        "X_test_scaled = scaler.transform(X_test)\n",
        "\n",
        "# Create and train the Support Vector Machine (SVM) model\n",
        "model = SVC(kernel='linear', C=1)\n",
        "model.fit(X_train_scaled, y_train)\n",
        "\n",
        "# Make predictions on the test set\n",
        "predictions = model.predict(X_test_scaled)\n",
        "\n",
        "# Evaluate the model\n",
        "accuracy = accuracy_score(y_test, predictions)\n",
        "print(f\"Accuracy: {accuracy * 100:.2f}%\")"
      ],
      "metadata": {
        "id": "b1bztnE1mnJU",
        "colab": {
          "base_uri": "https://localhost:8080/"
        },
        "outputId": "923af43a-c5b6-420c-ad01-d7444e1ab99a"
      },
      "execution_count": 2,
      "outputs": [
        {
          "output_type": "stream",
          "name": "stdout",
          "text": [
            "Accuracy: 45.50%\n"
          ]
        }
      ]
    }
  ]
}